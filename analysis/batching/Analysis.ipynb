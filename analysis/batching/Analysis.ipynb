{
 "cells": [
  {
   "cell_type": "code",
   "execution_count": null,
   "id": "7ac96b60-e5b1-4057-ad83-4ac1a3e9de28",
   "metadata": {},
   "outputs": [],
   "source": [
    "import pandas as pd\n",
    "import matplotlib.pyplot as plt\n",
    "import numpy as np\n",
    "import json"
   ]
  },
  {
   "cell_type": "code",
   "execution_count": null,
   "id": "0ce28727-ef4a-4acd-98ea-2a825ee307a8",
   "metadata": {},
   "outputs": [],
   "source": [
    "pd.set_option('display.min_rows', 100)"
   ]
  },
  {
   "cell_type": "code",
   "execution_count": null,
   "id": "7eb0148e-3b95-49ce-b39b-cd81c208d109",
   "metadata": {},
   "outputs": [],
   "source": [
    "def get_cmap(n, name='hsv'):\n",
    "    '''Returns a function that maps each index in 0, 1, ..., n-1 to a distinct \n",
    "    RGB color; the keyword argument name must be a standard mpl colormap name.'''\n",
    "    return plt.colormaps.get_cmap(name)(np.linspace(0.1, 0.8, n))"
   ]
  },
  {
   "cell_type": "code",
   "execution_count": null,
   "id": "a02adfc1-f081-468a-911f-9a0e4e3068ae",
   "metadata": {},
   "outputs": [],
   "source": [
    "with open(\"metrics_16p_4b_3n.json\") as f:\n",
    "    raw = json.load(f)\n",
    "points = pd.json_normalize(raw)\n",
    "points.rename(columns={\n",
    "    \"labels.status\": \"status\", \n",
    "    \"labels.provider\": \"provider\",\n",
    "    \"labels.size\": \"size\",\n",
    "    \"labels.epoch\": \"epoch\"\n",
    "}, inplace=True)\n",
    "points[\"end\"] = points['start'] + points['duration']"
   ]
  },
  {
   "cell_type": "code",
   "execution_count": null,
   "id": "b090568f-bcaa-4e2f-9de6-cc16820c4c07",
   "metadata": {},
   "outputs": [],
   "source": [
    "success = points[points[\"status\"] == \"success\"].sort_values(by='start')\n",
    "confirmed = points[points[\"status\"] == \"confirmed\"].sort_values(by='start')\n",
    "invalid = points[points[\"status\"] == \"invalid\"].sort_values(by='start')"
   ]
  },
  {
   "cell_type": "code",
   "execution_count": null,
   "id": "1747973e-995b-4dfa-b81f-3857ff581457",
   "metadata": {},
   "outputs": [],
   "source": [
    "success.shape"
   ]
  },
  {
   "cell_type": "code",
   "execution_count": null,
   "id": "49289a42-eb4b-4b8f-84d8-a32e3b308756",
   "metadata": {},
   "outputs": [],
   "source": [
    "success[\"duration\"].median()"
   ]
  },
  {
   "cell_type": "code",
   "execution_count": null,
   "id": "855167d3-83a8-4b12-930f-1556a4bbeaa5",
   "metadata": {},
   "outputs": [],
   "source": [
    "confirmed[\"duration\"].median()"
   ]
  },
  {
   "cell_type": "code",
   "execution_count": null,
   "id": "589694f0-0a6d-495d-9df7-7bf6c63a8367",
   "metadata": {},
   "outputs": [],
   "source": [
    "epoches = success[[\"start\", \"end\", \"epoch\"]].copy()\n",
    "epoches = epoches.groupby(\"epoch\").agg(start=('start', 'min'), end=('start', 'max')).reset_index()\n",
    "epoches[\"end\"] = epoches[\"end\"] + success[\"duration\"].median()\n",
    "epoches[\"duration\"] = epoches[\"end\"] - epoches[\"start\"]"
   ]
  },
  {
   "cell_type": "code",
   "execution_count": null,
   "id": "491db85f-8603-402a-b8cb-c17d437f33ca",
   "metadata": {},
   "outputs": [],
   "source": [
    "epoches"
   ]
  },
  {
   "cell_type": "code",
   "execution_count": null,
   "id": "9845b73d-beca-4c0b-8c70-3d42a44b6534",
   "metadata": {},
   "outputs": [],
   "source": [
    "FACTOR = 1e3\n",
    "count = len(points['provider'].unique())\n",
    "plt.figure(figsize=(15, count))\n",
    "cmap = get_cmap(count)\n",
    "\n",
    "for i, (pv, group) in enumerate(success.groupby('provider')):\n",
    "    data = list(zip(group['start'] / FACTOR, group['duration']  / FACTOR))\n",
    "    pnum = int(pv[2:])\n",
    "    plt.broken_barh(data, (pnum-0.1, 0.2), edgecolor='black', facecolor=cmap[i], label=pv)\n",
    "\n",
    "for i, (pv, group) in enumerate(invalid.groupby('provider')):\n",
    "    data = group['start'] / FACTOR\n",
    "    pnum = int(pv[2:])\n",
    "    plt.scatter(data, [pnum] * len(data), color=\"red\")\n",
    "\n",
    "for i, row in epoches.iterrows():\n",
    "    plt.axvline(x=row['start'] / FACTOR, color='g', linestyle='--', linewidth=1, label='Requests Start' if i == 0 else \"\")\n",
    "    plt.axvline(x=row['end'] / FACTOR, color='r', linestyle='--', linewidth=1, label='Requests End' if i == 0 else \"\")\n",
    "\n",
    "# Formatting\n",
    "plt.xticks(np.linspace(success[\"start\"].min() / FACTOR, success[\"end\"].max() / FACTOR, 15))\n",
    "plt.yticks(np.linspace(0, count - 1, count))\n",
    "\n",
    "plt.xlabel('Time (s)')\n",
    "plt.ylabel('Provider index')\n",
    "plt.title('Requests Timeline')\n",
    "plt.legend(loc='center left', bbox_to_anchor=(1, 0.5))\n",
    "plt.ylim(-1, count)\n",
    "plt.grid(True)\n",
    "plt.show()"
   ]
  },
  {
   "cell_type": "code",
   "execution_count": null,
   "id": "abbe41db-4b20-4755-bd4f-763ac0916917",
   "metadata": {},
   "outputs": [],
   "source": [
    "reqs = success[[\"start\", \"size\"]].copy()\n",
    "reqs[\"start\"] = pd.to_timedelta(reqs[\"start\"], unit=\"ms\")\n",
    "reqs = reqs.groupby(\"start\")[\"size\"].sum()\n",
    "\n",
    "# Resample to 1-second frequency\n",
    "resampled = reqs.resample('1S').sum()\n",
    "\n",
    "FACTOR = 1e9\n",
    "def plot_window(window_size):\n",
    "    rps = resampled.rolling(window=window_size, min_periods=0).sum() / window_size\n",
    "    plt.plot(rps.index / FACTOR, rps.values, label=\"{}s window\".format(window_size))\n",
    "\n",
    "plt.figure(figsize=(15, 5))\n",
    "# Plot\n",
    "plot_window(60)\n",
    "plot_window(90)\n",
    "plot_window(120)\n",
    "\n",
    "for i, row in epoches.iterrows():\n",
    "    start = pd.to_timedelta(row['start'], unit=\"ms\") / pd.Timedelta(1, 'ns')\n",
    "    plt.axvline(x=start / FACTOR, color='g', linestyle='--', linewidth=1, label='Requests Start' if i == 0 else \"\")\n",
    "    end = pd.to_timedelta(row['end'], unit=\"ms\") / pd.Timedelta(1, 'ns')\n",
    "    plt.axvline(x=end / FACTOR, color='r', linestyle='--', linewidth=1, label='Requests End' if i == 0 else \"\")\n",
    "\n",
    "plt.xlabel('Time (s)')\n",
    "plt.ylabel('Requests per Second (RPS)')\n",
    "plt.title('RPS with Sliding Window')\n",
    "plt.grid(True)\n",
    "plt.legend()\n",
    "plt.show()"
   ]
  },
  {
   "cell_type": "code",
   "execution_count": null,
   "id": "c553d586-3893-40d6-ac30-4eea03a3686e",
   "metadata": {},
   "outputs": [],
   "source": [
    "erps = []\n",
    "for (i, epoch) in epoches.iterrows():\n",
    "    count = success[success[\"epoch\"] == epoch[\"epoch\"]][\"size\"].sum()\n",
    "    rps = count / epoch[\"duration\"] * 1000\n",
    "    erps.append(rps)\n",
    "    print(rps)\n",
    "pd.Series(erps).median()"
   ]
  },
  {
   "cell_type": "code",
   "execution_count": null,
   "id": "f7b1a243-62b2-4f52-9aa1-7faa2c4771bf",
   "metadata": {},
   "outputs": [],
   "source": [
    "def process(datas):\n",
    "    res = dict()\n",
    "    for line in datas.split(\"\\n\"):\n",
    "        words = line.split(\" \")\n",
    "        res[words[0]] = list(map(float, words[-3:]))\n",
    "    return res\n",
    "\n",
    "batches = dict()\n",
    "# Data gathered from aggregating actor log\n",
    "batches[\"1\"] = \"\"\"from_raw 2137 1.4016078614881 1.67 1.7792 1.96\n",
    "pack 2129 476299.10615312 484829.4 486830.4 491330.6\n",
    "randomx 2129 476283.73461719 484815 486815.2 491316.76\"\"\"\n",
    "batches[\"2\"] = \"\"\"from_raw 2093 1.4917166746297 1.8 1.91 2.1916\n",
    "pack 2094 598354.48185291 626291.3 629699.4 636137.91\n",
    "randomx 2094 598336.06064947 626273.6 629677 636121.35\"\"\"\n",
    "batches[\"3\"] = \"\"\"from_raw 2245 1.5433224944321 1.9 2.0308 2.33\n",
    "pack 2236 726489.93872987 761149 767902.5 780270.95\n",
    "randomx 2236 726470.12209302 761130.5 767885 780253.65\"\"\"\n",
    "batches[\"4\"] = \"\"\"from_raw 2134 1.6584062792877 2.071 2.26 2.6867\n",
    "pack 2125 873428.26588235 942962.6 957103.2 976011.52\n",
    "randomx 2125 873406.89647059 942941 957080.4 975992.8\"\"\"\n",
    "\n",
    "batches = {k: process(v) for k, v in batches.items()}"
   ]
  },
  {
   "cell_type": "code",
   "execution_count": null,
   "id": "d125092c-49f4-4c14-99e7-07e4567259de",
   "metadata": {},
   "outputs": [],
   "source": [
    "plt.figure(figsize=(10, 6))\n",
    "\n",
    "x_range = [int(b) for b in batches]\n",
    "width = 0.3\n",
    "colors = {\n",
    "    \"from_raw\": \"red\",\n",
    "    \"randomx\": \"blue\",\n",
    "    \"pack\": \"green\"\n",
    "}\n",
    "quants = {\n",
    "    0: \"90\",\n",
    "    1: \"95\",\n",
    "    2: \"99\"\n",
    "}\n",
    "\n",
    "for process in [\"pack\", \"randomx\", \"from_raw\"]:\n",
    "    for q, qlabel in quants.items():\n",
    "        x_r = [x - width * (len(quants) // 2 - q) for x in x_range]\n",
    "        values = [v[process][q] for v in batches.values()]\n",
    "        plt.bar(x_r, values, width, color=colors[process], edgecolor=\"black\", label=f\"{process}, {qlabel} quantille\")\n",
    "\n",
    "x = [min(x_range), max(x_range)]\n",
    "y = [batches[\"1\"][\"randomx\"][1], batches[\"4\"][\"randomx\"][1]]\n",
    "\n",
    "plt.plot(x, y, color=\"red\", linestyle=\"--\", label=\"Linear Function\")\n",
    "\n",
    "plt.legend()\n",
    "plt.grid(True, axis=\"y\")\n",
    "plt.xticks(x_range, batches.keys())\n",
    "plt.xlabel(\"Batch size\")\n",
    "plt.ylabel(\"Time (us)\")"
   ]
  }
 ],
 "metadata": {
  "kernelspec": {
   "display_name": "Python 3 (ipykernel)",
   "language": "python",
   "name": "python3"
  },
  "language_info": {
   "codemirror_mode": {
    "name": "ipython",
    "version": 3
   },
   "file_extension": ".py",
   "mimetype": "text/x-python",
   "name": "python",
   "nbconvert_exporter": "python",
   "pygments_lexer": "ipython3",
   "version": "3.11.8"
  }
 },
 "nbformat": 4,
 "nbformat_minor": 5
}
